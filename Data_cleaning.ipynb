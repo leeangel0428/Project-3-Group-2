{
 "cells": [
  {
   "cell_type": "code",
   "execution_count": 1,
   "metadata": {},
   "outputs": [],
   "source": [
    "# Dependencies and Setup\n",
    "import pandas as pd\n",
    "from pathlib import Path\n",
    "\n",
    "# File to Load \n",
    "interest_rate_data_to_load = Path(\"Resources/MORTGAGE30US.csv\")\n",
    "house_pricing_data_to_load = Path(\"Resources/Average House Pricing Q1 1973 - Q1 2023 (all regions).csv\")\n",
    "income_data_to_load = Path(\"Resources/Mean Family income 1973 - EOD 2023.csv\")\n",
    "\n",
    "# Read School and Student Data File and store into Pandas DataFrames\n",
    "interest_rate_df = pd.read_csv(interest_rate_data_to_load)\n",
    "house_pricing_df = pd.read_csv(house_pricing_data_to_load)\n",
    "income_df = pd.read_csv(income_data_to_load)\n"
   ]
  },
  {
   "cell_type": "code",
   "execution_count": 2,
   "metadata": {},
   "outputs": [
    {
     "data": {
      "text/html": [
       "<div>\n",
       "<style scoped>\n",
       "    .dataframe tbody tr th:only-of-type {\n",
       "        vertical-align: middle;\n",
       "    }\n",
       "\n",
       "    .dataframe tbody tr th {\n",
       "        vertical-align: top;\n",
       "    }\n",
       "\n",
       "    .dataframe thead th {\n",
       "        text-align: right;\n",
       "    }\n",
       "</style>\n",
       "<table border=\"1\" class=\"dataframe\">\n",
       "  <thead>\n",
       "    <tr style=\"text-align: right;\">\n",
       "      <th></th>\n",
       "      <th>DATE</th>\n",
       "      <th>MORTGAGE30US</th>\n",
       "    </tr>\n",
       "  </thead>\n",
       "  <tbody>\n",
       "    <tr>\n",
       "      <th>0</th>\n",
       "      <td>1/1/1975</td>\n",
       "      <td>9.168462</td>\n",
       "    </tr>\n",
       "    <tr>\n",
       "      <th>1</th>\n",
       "      <td>4/1/1975</td>\n",
       "      <td>8.875385</td>\n",
       "    </tr>\n",
       "    <tr>\n",
       "      <th>2</th>\n",
       "      <td>7/1/1975</td>\n",
       "      <td>8.983846</td>\n",
       "    </tr>\n",
       "    <tr>\n",
       "      <th>3</th>\n",
       "      <td>10/1/1975</td>\n",
       "      <td>9.160769</td>\n",
       "    </tr>\n",
       "    <tr>\n",
       "      <th>4</th>\n",
       "      <td>1/1/1976</td>\n",
       "      <td>8.873077</td>\n",
       "    </tr>\n",
       "  </tbody>\n",
       "</table>\n",
       "</div>"
      ],
      "text/plain": [
       "        DATE  MORTGAGE30US\n",
       "0   1/1/1975      9.168462\n",
       "1   4/1/1975      8.875385\n",
       "2   7/1/1975      8.983846\n",
       "3  10/1/1975      9.160769\n",
       "4   1/1/1976      8.873077"
      ]
     },
     "execution_count": 2,
     "metadata": {},
     "output_type": "execute_result"
    }
   ],
   "source": [
    "#Display df(s)\n",
    "interest_rate_df.head()"
   ]
  },
  {
   "cell_type": "code",
   "execution_count": 3,
   "metadata": {},
   "outputs": [
    {
     "data": {
      "text/plain": [
       "Index(['DATE', 'MORTGAGE30US'], dtype='object')"
      ]
     },
     "execution_count": 3,
     "metadata": {},
     "output_type": "execute_result"
    }
   ],
   "source": [
    "interest_rate_df.columns"
   ]
  },
  {
   "cell_type": "code",
   "execution_count": 4,
   "metadata": {},
   "outputs": [
    {
     "data": {
      "text/html": [
       "<div>\n",
       "<style scoped>\n",
       "    .dataframe tbody tr th:only-of-type {\n",
       "        vertical-align: middle;\n",
       "    }\n",
       "\n",
       "    .dataframe tbody tr th {\n",
       "        vertical-align: top;\n",
       "    }\n",
       "\n",
       "    .dataframe thead th {\n",
       "        text-align: right;\n",
       "    }\n",
       "</style>\n",
       "<table border=\"1\" class=\"dataframe\">\n",
       "  <thead>\n",
       "    <tr style=\"text-align: right;\">\n",
       "      <th></th>\n",
       "      <th>Year/Quarter</th>\n",
       "      <th>Fixed 30-year Rate</th>\n",
       "    </tr>\n",
       "  </thead>\n",
       "  <tbody>\n",
       "    <tr>\n",
       "      <th>0</th>\n",
       "      <td>1975Q1</td>\n",
       "      <td>9.1685</td>\n",
       "    </tr>\n",
       "    <tr>\n",
       "      <th>1</th>\n",
       "      <td>1975Q2</td>\n",
       "      <td>8.8754</td>\n",
       "    </tr>\n",
       "    <tr>\n",
       "      <th>2</th>\n",
       "      <td>1975Q3</td>\n",
       "      <td>8.9838</td>\n",
       "    </tr>\n",
       "    <tr>\n",
       "      <th>3</th>\n",
       "      <td>1975Q4</td>\n",
       "      <td>9.1608</td>\n",
       "    </tr>\n",
       "    <tr>\n",
       "      <th>4</th>\n",
       "      <td>1976Q1</td>\n",
       "      <td>8.8731</td>\n",
       "    </tr>\n",
       "  </tbody>\n",
       "</table>\n",
       "</div>"
      ],
      "text/plain": [
       "  Year/Quarter  Fixed 30-year Rate\n",
       "0       1975Q1              9.1685\n",
       "1       1975Q2              8.8754\n",
       "2       1975Q3              8.9838\n",
       "3       1975Q4              9.1608\n",
       "4       1976Q1              8.8731"
      ]
     },
     "execution_count": 4,
     "metadata": {},
     "output_type": "execute_result"
    }
   ],
   "source": [
    "interest_rate_df['MORTGAGE30US'] = round(interest_rate_df['MORTGAGE30US'], 4) #Rounding interest rate column to 4 decimal \n",
    "interest_rate_df['DATE'] = pd.PeriodIndex(interest_rate_df['DATE'], freq='Q') #Convert Date to Quarter\n",
    "clean_interest_rate_df = interest_rate_df.rename(columns={\"MORTGAGE30US\": \"Fixed 30-year Rate\", \"DATE\": \"Year/Quarter\"}).dropna() #change interest rate column name\n",
    "clean_interest_rate_df.head()"
   ]
  },
  {
   "cell_type": "code",
   "execution_count": 5,
   "metadata": {},
   "outputs": [
    {
     "data": {
      "text/plain": [
       "Year/Quarter          period[Q-DEC]\n",
       "Fixed 30-year Rate          float64\n",
       "dtype: object"
      ]
     },
     "execution_count": 5,
     "metadata": {},
     "output_type": "execute_result"
    }
   ],
   "source": [
    "clean_interest_rate_df.dtypes"
   ]
  },
  {
   "cell_type": "code",
   "execution_count": 6,
   "metadata": {},
   "outputs": [
    {
     "data": {
      "text/plain": [
       "Year/Quarter           object\n",
       "Fixed 30-year Rate    float64\n",
       "dtype: object"
      ]
     },
     "execution_count": 6,
     "metadata": {},
     "output_type": "execute_result"
    }
   ],
   "source": [
    "final_clean_interest_rate_df = clean_interest_rate_df.astype({'Year/Quarter':'str'})\n",
    "final_clean_interest_rate_df.dtypes"
   ]
  },
  {
   "cell_type": "code",
   "execution_count": 30,
   "metadata": {},
   "outputs": [],
   "source": [
    "quarterly_interest_column_mapping={\n",
    "    \"Year/Quarter\": \"year_quarter\",\n",
    "    \"Fixed 30-year Rate\": \"fixed_30_year_rate\"\n",
    "}\n",
    "\n",
    "final_clean_interest_rate_df.rename(columns= quarterly_interest_column_mapping, inplace= True)"
   ]
  },
  {
   "cell_type": "code",
   "execution_count": 31,
   "metadata": {},
   "outputs": [],
   "source": [
    "\n",
    "final_clean_interest_rate_df.to_csv(\"clean_data_outputs/quarterly_interest_rate.csv\")"
   ]
  },
  {
   "cell_type": "code",
   "execution_count": 8,
   "metadata": {},
   "outputs": [
    {
     "data": {
      "text/html": [
       "<div>\n",
       "<style scoped>\n",
       "    .dataframe tbody tr th:only-of-type {\n",
       "        vertical-align: middle;\n",
       "    }\n",
       "\n",
       "    .dataframe tbody tr th {\n",
       "        vertical-align: top;\n",
       "    }\n",
       "\n",
       "    .dataframe thead th {\n",
       "        text-align: right;\n",
       "    }\n",
       "</style>\n",
       "<table border=\"1\" class=\"dataframe\">\n",
       "  <thead>\n",
       "    <tr style=\"text-align: right;\">\n",
       "      <th></th>\n",
       "      <th>Year/Quarter</th>\n",
       "      <th>Fixed 30-year Rate</th>\n",
       "    </tr>\n",
       "  </thead>\n",
       "  <tbody>\n",
       "    <tr>\n",
       "      <th>0</th>\n",
       "      <td>1975Q2</td>\n",
       "      <td>8.8754</td>\n",
       "    </tr>\n",
       "    <tr>\n",
       "      <th>1</th>\n",
       "      <td>1976Q2</td>\n",
       "      <td>8.7769</td>\n",
       "    </tr>\n",
       "    <tr>\n",
       "      <th>2</th>\n",
       "      <td>1977Q2</td>\n",
       "      <td>8.8077</td>\n",
       "    </tr>\n",
       "    <tr>\n",
       "      <th>3</th>\n",
       "      <td>1978Q2</td>\n",
       "      <td>9.5577</td>\n",
       "    </tr>\n",
       "    <tr>\n",
       "      <th>4</th>\n",
       "      <td>1979Q2</td>\n",
       "      <td>10.7638</td>\n",
       "    </tr>\n",
       "  </tbody>\n",
       "</table>\n",
       "</div>"
      ],
      "text/plain": [
       "  Year/Quarter  Fixed 30-year Rate\n",
       "0       1975Q2              8.8754\n",
       "1       1976Q2              8.7769\n",
       "2       1977Q2              8.8077\n",
       "3       1978Q2              9.5577\n",
       "4       1979Q2             10.7638"
      ]
     },
     "execution_count": 8,
     "metadata": {},
     "output_type": "execute_result"
    }
   ],
   "source": [
    "#Get interest rate of Q2 data for every year\n",
    "annual_interest_rate_df = clean_interest_rate_df.copy()\n",
    "annual_interest_rate_df.dtypes\n",
    "annual_interest_rate_df['String Year/Quarter'] = annual_interest_rate_df['Year/Quarter'].astype(str)\n",
    "annual_interest_rate_df.dtypes\n",
    "annual_interest_rate_df['Year'] = annual_interest_rate_df['String Year/Quarter'].str.extract('(\\d+)', expand=False)\n",
    "dump_annual_interest_rate_df = annual_interest_rate_df.assign(Q = annual_interest_rate_df['String Year/Quarter'].str[-1].astype('int'))\n",
    "clean_annual_interest_rate_df = dump_annual_interest_rate_df.loc[dump_annual_interest_rate_df['Q'] == 2].drop(columns=['Year','Q','String Year/Quarter']).reset_index(drop=True)\n",
    "clean_annual_interest_rate_df.head()\n"
   ]
  },
  {
   "cell_type": "code",
   "execution_count": 9,
   "metadata": {},
   "outputs": [],
   "source": [
    "\n",
    "final_clean_annual_interest_rate_df = clean_annual_interest_rate_df.astype({'Year/Quarter':'str'})"
   ]
  },
  {
   "cell_type": "code",
   "execution_count": 10,
   "metadata": {},
   "outputs": [
    {
     "data": {
      "text/plain": [
       "Year/Quarter           object\n",
       "Fixed 30-year Rate    float64\n",
       "dtype: object"
      ]
     },
     "execution_count": 10,
     "metadata": {},
     "output_type": "execute_result"
    }
   ],
   "source": [
    "final_clean_annual_interest_rate_df.dtypes"
   ]
  },
  {
   "cell_type": "code",
   "execution_count": 32,
   "metadata": {},
   "outputs": [],
   "source": [
    "annual_interest_column_mapping={\n",
    "    \"Year/Quarter\": \"year_quarter\",\n",
    "    \"Fixed 30-year Rate\": \"fixed_30_year_rate\"\n",
    "}\n",
    "\n",
    "final_clean_annual_interest_rate_df.rename(columns= annual_interest_column_mapping, inplace= True)"
   ]
  },
  {
   "cell_type": "code",
   "execution_count": 33,
   "metadata": {},
   "outputs": [],
   "source": [
    "final_clean_annual_interest_rate_df.to_csv(\"clean_data_outputs/annual_interest_rate.csv\")"
   ]
  },
  {
   "cell_type": "code",
   "execution_count": 12,
   "metadata": {},
   "outputs": [
    {
     "data": {
      "text/plain": [
       "Index(['DATE', 'ASPS', 'ASPW', 'ASPUS', 'ASPNE', 'ASPMW'], dtype='object')"
      ]
     },
     "execution_count": 12,
     "metadata": {},
     "output_type": "execute_result"
    }
   ],
   "source": [
    "house_pricing_df.head()\n",
    "house_pricing_df['DATE'] = pd.PeriodIndex(house_pricing_df['DATE'], freq='Q') #Convert Date to Quarter\n",
    "house_pricing_df.columns\n"
   ]
  },
  {
   "cell_type": "code",
   "execution_count": 13,
   "metadata": {},
   "outputs": [
    {
     "data": {
      "text/html": [
       "<div>\n",
       "<style scoped>\n",
       "    .dataframe tbody tr th:only-of-type {\n",
       "        vertical-align: middle;\n",
       "    }\n",
       "\n",
       "    .dataframe tbody tr th {\n",
       "        vertical-align: top;\n",
       "    }\n",
       "\n",
       "    .dataframe thead th {\n",
       "        text-align: right;\n",
       "    }\n",
       "</style>\n",
       "<table border=\"1\" class=\"dataframe\">\n",
       "  <thead>\n",
       "    <tr style=\"text-align: right;\">\n",
       "      <th></th>\n",
       "      <th>Year/Quarter</th>\n",
       "      <th>Southern Average Price</th>\n",
       "      <th>Western Average Price</th>\n",
       "      <th>Nationwide Average Price</th>\n",
       "      <th>Northeastern Average Price</th>\n",
       "      <th>Midwestern Average Price</th>\n",
       "    </tr>\n",
       "  </thead>\n",
       "  <tbody>\n",
       "    <tr>\n",
       "      <th>0</th>\n",
       "      <td>1975Q1</td>\n",
       "      <td>38000.0</td>\n",
       "      <td>42300.0</td>\n",
       "      <td>40900.0</td>\n",
       "      <td>47300.0</td>\n",
       "      <td>41800.0</td>\n",
       "    </tr>\n",
       "    <tr>\n",
       "      <th>1</th>\n",
       "      <td>1975Q2</td>\n",
       "      <td>39800.0</td>\n",
       "      <td>43600.0</td>\n",
       "      <td>42600.0</td>\n",
       "      <td>46400.0</td>\n",
       "      <td>44000.0</td>\n",
       "    </tr>\n",
       "    <tr>\n",
       "      <th>2</th>\n",
       "      <td>1975Q3</td>\n",
       "      <td>39200.0</td>\n",
       "      <td>43600.0</td>\n",
       "      <td>42200.0</td>\n",
       "      <td>47400.0</td>\n",
       "      <td>42900.0</td>\n",
       "    </tr>\n",
       "    <tr>\n",
       "      <th>3</th>\n",
       "      <td>1975Q4</td>\n",
       "      <td>41300.0</td>\n",
       "      <td>47400.0</td>\n",
       "      <td>44400.0</td>\n",
       "      <td>47700.0</td>\n",
       "      <td>44500.0</td>\n",
       "    </tr>\n",
       "    <tr>\n",
       "      <th>4</th>\n",
       "      <td>1976Q1</td>\n",
       "      <td>43000.0</td>\n",
       "      <td>49200.0</td>\n",
       "      <td>46000.0</td>\n",
       "      <td>48600.0</td>\n",
       "      <td>45100.0</td>\n",
       "    </tr>\n",
       "    <tr>\n",
       "      <th>...</th>\n",
       "      <td>...</td>\n",
       "      <td>...</td>\n",
       "      <td>...</td>\n",
       "      <td>...</td>\n",
       "      <td>...</td>\n",
       "      <td>...</td>\n",
       "    </tr>\n",
       "    <tr>\n",
       "      <th>188</th>\n",
       "      <td>2022Q1</td>\n",
       "      <td>451000.0</td>\n",
       "      <td>627700.0</td>\n",
       "      <td>514100.0</td>\n",
       "      <td>766400.0</td>\n",
       "      <td>432000.0</td>\n",
       "    </tr>\n",
       "    <tr>\n",
       "      <th>189</th>\n",
       "      <td>2022Q2</td>\n",
       "      <td>482000.0</td>\n",
       "      <td>647300.0</td>\n",
       "      <td>527500.0</td>\n",
       "      <td>707000.0</td>\n",
       "      <td>438700.0</td>\n",
       "    </tr>\n",
       "    <tr>\n",
       "      <th>190</th>\n",
       "      <td>2022Q3</td>\n",
       "      <td>493000.0</td>\n",
       "      <td>669900.0</td>\n",
       "      <td>547800.0</td>\n",
       "      <td>995200.0</td>\n",
       "      <td>435300.0</td>\n",
       "    </tr>\n",
       "    <tr>\n",
       "      <th>191</th>\n",
       "      <td>2022Q4</td>\n",
       "      <td>502200.0</td>\n",
       "      <td>666800.0</td>\n",
       "      <td>552600.0</td>\n",
       "      <td>798800.0</td>\n",
       "      <td>403100.0</td>\n",
       "    </tr>\n",
       "    <tr>\n",
       "      <th>192</th>\n",
       "      <td>2023Q1</td>\n",
       "      <td>446200.0</td>\n",
       "      <td>624700.0</td>\n",
       "      <td>505300.0</td>\n",
       "      <td>825300.0</td>\n",
       "      <td>449300.0</td>\n",
       "    </tr>\n",
       "  </tbody>\n",
       "</table>\n",
       "<p>193 rows × 6 columns</p>\n",
       "</div>"
      ],
      "text/plain": [
       "    Year/Quarter  Southern Average Price  Western Average Price  \\\n",
       "0         1975Q1                 38000.0                42300.0   \n",
       "1         1975Q2                 39800.0                43600.0   \n",
       "2         1975Q3                 39200.0                43600.0   \n",
       "3         1975Q4                 41300.0                47400.0   \n",
       "4         1976Q1                 43000.0                49200.0   \n",
       "..           ...                     ...                    ...   \n",
       "188       2022Q1                451000.0               627700.0   \n",
       "189       2022Q2                482000.0               647300.0   \n",
       "190       2022Q3                493000.0               669900.0   \n",
       "191       2022Q4                502200.0               666800.0   \n",
       "192       2023Q1                446200.0               624700.0   \n",
       "\n",
       "     Nationwide Average Price  Northeastern Average Price  \\\n",
       "0                     40900.0                     47300.0   \n",
       "1                     42600.0                     46400.0   \n",
       "2                     42200.0                     47400.0   \n",
       "3                     44400.0                     47700.0   \n",
       "4                     46000.0                     48600.0   \n",
       "..                        ...                         ...   \n",
       "188                  514100.0                    766400.0   \n",
       "189                  527500.0                    707000.0   \n",
       "190                  547800.0                    995200.0   \n",
       "191                  552600.0                    798800.0   \n",
       "192                  505300.0                    825300.0   \n",
       "\n",
       "     Midwestern Average Price  \n",
       "0                     41800.0  \n",
       "1                     44000.0  \n",
       "2                     42900.0  \n",
       "3                     44500.0  \n",
       "4                     45100.0  \n",
       "..                        ...  \n",
       "188                  432000.0  \n",
       "189                  438700.0  \n",
       "190                  435300.0  \n",
       "191                  403100.0  \n",
       "192                  449300.0  \n",
       "\n",
       "[193 rows x 6 columns]"
      ]
     },
     "execution_count": 13,
     "metadata": {},
     "output_type": "execute_result"
    }
   ],
   "source": [
    "clean_house_pricing_df = house_pricing_df.rename(columns={\"DATE\": \"Year/Quarter\", \"ASPS\": \"Southern Average Price\", \"ASPW\": \"Western Average Price\", \"ASPUS\": \"Nationwide Average Price\", \"ASPNE\": \"Northeastern Average Price\", \"ASPMW\": \"Midwestern Average Price\"}).dropna() #change housing price column name\n",
    "clean_house_pricing_df"
   ]
  },
  {
   "cell_type": "code",
   "execution_count": 14,
   "metadata": {},
   "outputs": [
    {
     "data": {
      "text/plain": [
       "Year/Quarter                  period[Q-DEC]\n",
       "Southern Average Price              float64\n",
       "Western Average Price               float64\n",
       "Nationwide Average Price            float64\n",
       "Northeastern Average Price          float64\n",
       "Midwestern Average Price            float64\n",
       "dtype: object"
      ]
     },
     "execution_count": 14,
     "metadata": {},
     "output_type": "execute_result"
    }
   ],
   "source": [
    "clean_house_pricing_df.dtypes"
   ]
  },
  {
   "cell_type": "code",
   "execution_count": 15,
   "metadata": {},
   "outputs": [],
   "source": [
    "final_clean_house_pricing_df = clean_house_pricing_df.astype({'Southern Average Price' : 'int',\n",
    "                                                              'Western Average Price' : 'int',\n",
    "                                                              'Nationwide Average Price' : 'int',\n",
    "                                                              'Northeastern Average Price':'int',\n",
    "                                                              'Midwestern Average Price': 'int',\n",
    "                                                              'Year/Quarter' : 'str'\n",
    "                                                              })"
   ]
  },
  {
   "cell_type": "code",
   "execution_count": 16,
   "metadata": {},
   "outputs": [
    {
     "data": {
      "text/plain": [
       "Year/Quarter                  object\n",
       "Southern Average Price         int32\n",
       "Western Average Price          int32\n",
       "Nationwide Average Price       int32\n",
       "Northeastern Average Price     int32\n",
       "Midwestern Average Price       int32\n",
       "dtype: object"
      ]
     },
     "execution_count": 16,
     "metadata": {},
     "output_type": "execute_result"
    }
   ],
   "source": [
    "final_clean_house_pricing_df.dtypes"
   ]
  },
  {
   "cell_type": "code",
   "execution_count": 34,
   "metadata": {},
   "outputs": [],
   "source": [
    "quarterly_housing_column_mapping={\n",
    "    \"Year/Quarter\": \"year_quarter\",\n",
    "    \"Southern Average Price\": \"southern_average_price\",\n",
    "    \"Western Average Price\": \"western_average_price\",\n",
    "    \"Nationwide Average Price\": \"nationwide_average_price\",\n",
    "    \"Northeastern Average Price\": \"northeastern_average_price\",\n",
    "    \"Midwestern Average Price\": \"midwestern_average_price\"\n",
    "}\n",
    "\n",
    "final_clean_house_pricing_df.rename(columns= quarterly_housing_column_mapping, inplace= True)"
   ]
  },
  {
   "cell_type": "code",
   "execution_count": 35,
   "metadata": {},
   "outputs": [],
   "source": [
    "final_clean_house_pricing_df.to_csv(\"clean_data_outputs/quarterly_house_price.csv\")"
   ]
  },
  {
   "cell_type": "code",
   "execution_count": 18,
   "metadata": {},
   "outputs": [
    {
     "data": {
      "text/html": [
       "<div>\n",
       "<style scoped>\n",
       "    .dataframe tbody tr th:only-of-type {\n",
       "        vertical-align: middle;\n",
       "    }\n",
       "\n",
       "    .dataframe tbody tr th {\n",
       "        vertical-align: top;\n",
       "    }\n",
       "\n",
       "    .dataframe thead th {\n",
       "        text-align: right;\n",
       "    }\n",
       "</style>\n",
       "<table border=\"1\" class=\"dataframe\">\n",
       "  <thead>\n",
       "    <tr style=\"text-align: right;\">\n",
       "      <th></th>\n",
       "      <th>Year/Quarter</th>\n",
       "      <th>Southern Average Price</th>\n",
       "      <th>Western Average Price</th>\n",
       "      <th>Nationwide Average Price</th>\n",
       "      <th>Northeastern Average Price</th>\n",
       "      <th>Midwestern Average Price</th>\n",
       "    </tr>\n",
       "  </thead>\n",
       "  <tbody>\n",
       "    <tr>\n",
       "      <th>0</th>\n",
       "      <td>1975Q2</td>\n",
       "      <td>39800.0</td>\n",
       "      <td>43600.0</td>\n",
       "      <td>42600.0</td>\n",
       "      <td>46400.0</td>\n",
       "      <td>44000.0</td>\n",
       "    </tr>\n",
       "    <tr>\n",
       "      <th>1</th>\n",
       "      <td>1976Q2</td>\n",
       "      <td>43700.0</td>\n",
       "      <td>51600.0</td>\n",
       "      <td>47800.0</td>\n",
       "      <td>48100.0</td>\n",
       "      <td>49400.0</td>\n",
       "    </tr>\n",
       "    <tr>\n",
       "      <th>2</th>\n",
       "      <td>1977Q2</td>\n",
       "      <td>48300.0</td>\n",
       "      <td>61200.0</td>\n",
       "      <td>54300.0</td>\n",
       "      <td>55800.0</td>\n",
       "      <td>54100.0</td>\n",
       "    </tr>\n",
       "    <tr>\n",
       "      <th>3</th>\n",
       "      <td>1978Q2</td>\n",
       "      <td>54800.0</td>\n",
       "      <td>69600.0</td>\n",
       "      <td>61600.0</td>\n",
       "      <td>60800.0</td>\n",
       "      <td>63400.0</td>\n",
       "    </tr>\n",
       "    <tr>\n",
       "      <th>4</th>\n",
       "      <td>1979Q2</td>\n",
       "      <td>64000.0</td>\n",
       "      <td>82000.0</td>\n",
       "      <td>72400.0</td>\n",
       "      <td>73400.0</td>\n",
       "      <td>75800.0</td>\n",
       "    </tr>\n",
       "  </tbody>\n",
       "</table>\n",
       "</div>"
      ],
      "text/plain": [
       "  Year/Quarter  Southern Average Price  Western Average Price  \\\n",
       "0       1975Q2                 39800.0                43600.0   \n",
       "1       1976Q2                 43700.0                51600.0   \n",
       "2       1977Q2                 48300.0                61200.0   \n",
       "3       1978Q2                 54800.0                69600.0   \n",
       "4       1979Q2                 64000.0                82000.0   \n",
       "\n",
       "   Nationwide Average Price  Northeastern Average Price  \\\n",
       "0                   42600.0                     46400.0   \n",
       "1                   47800.0                     48100.0   \n",
       "2                   54300.0                     55800.0   \n",
       "3                   61600.0                     60800.0   \n",
       "4                   72400.0                     73400.0   \n",
       "\n",
       "   Midwestern Average Price  \n",
       "0                   44000.0  \n",
       "1                   49400.0  \n",
       "2                   54100.0  \n",
       "3                   63400.0  \n",
       "4                   75800.0  "
      ]
     },
     "execution_count": 18,
     "metadata": {},
     "output_type": "execute_result"
    }
   ],
   "source": [
    "#Get interest rate of Q2 data for every year\n",
    "annual_housing_pricing_df = clean_house_pricing_df.copy()\n",
    "#annual_interest_rate_df.dtypes\n",
    "annual_housing_pricing_df['String Year/Quarter'] = annual_housing_pricing_df['Year/Quarter'].astype(str)\n",
    "#annual_interest_rate_df.dtypes\n",
    "annual_housing_pricing_df['Year'] = annual_housing_pricing_df['String Year/Quarter'].str.extract('(\\d+)', expand=False)\n",
    "dump_annual_housing_pricing_df = annual_housing_pricing_df.assign(Q = annual_housing_pricing_df['String Year/Quarter'].str[-1].astype('int'))\n",
    "clean_annual_housing_pricing_df = dump_annual_housing_pricing_df.loc[dump_annual_housing_pricing_df['Q'] == 2].drop(columns=['Year','Q','String Year/Quarter']).reset_index(drop=True)\n",
    "clean_annual_housing_pricing_df.head()"
   ]
  },
  {
   "cell_type": "code",
   "execution_count": 19,
   "metadata": {},
   "outputs": [
    {
     "data": {
      "text/plain": [
       "Index(['Year/Quarter', 'Southern Average Price', 'Western Average Price',\n",
       "       'Nationwide Average Price', 'Northeastern Average Price',\n",
       "       'Midwestern Average Price'],\n",
       "      dtype='object')"
      ]
     },
     "execution_count": 19,
     "metadata": {},
     "output_type": "execute_result"
    }
   ],
   "source": [
    "clean_annual_housing_pricing_df.columns"
   ]
  },
  {
   "cell_type": "code",
   "execution_count": 20,
   "metadata": {},
   "outputs": [],
   "source": [
    "final_clean_annual_housing_pricing_df = clean_annual_housing_pricing_df.astype({'Southern Average Price' : 'int',\n",
    "                                                              'Western Average Price' : 'int',\n",
    "                                                              'Nationwide Average Price' : 'int',\n",
    "                                                              'Northeastern Average Price':'int',\n",
    "                                                              'Midwestern Average Price': 'int',\n",
    "                                                              'Year/Quarter' : 'str'\n",
    "                                                              })"
   ]
  },
  {
   "cell_type": "code",
   "execution_count": 21,
   "metadata": {},
   "outputs": [
    {
     "data": {
      "text/plain": [
       "Year/Quarter                  object\n",
       "Southern Average Price         int32\n",
       "Western Average Price          int32\n",
       "Nationwide Average Price       int32\n",
       "Northeastern Average Price     int32\n",
       "Midwestern Average Price       int32\n",
       "dtype: object"
      ]
     },
     "execution_count": 21,
     "metadata": {},
     "output_type": "execute_result"
    }
   ],
   "source": [
    "final_clean_annual_housing_pricing_df.dtypes"
   ]
  },
  {
   "cell_type": "code",
   "execution_count": 36,
   "metadata": {},
   "outputs": [],
   "source": [
    "annual_housing_column_mapping={\n",
    "    \"Year/Quarter\": \"year_quarter\",\n",
    "    \"Southern Average Price\": \"southern_average_price\",\n",
    "    \"Western Average Price\": \"western_average_price\",\n",
    "    \"Nationwide Average Price\": \"nationwide_average_price\",\n",
    "    \"Northeastern Average Price\": \"northeastern_average_price\",\n",
    "    \"Midwestern Average Price\": \"midwestern_average_price\"\n",
    "}\n",
    "\n",
    "final_clean_annual_housing_pricing_df.rename(columns= annual_housing_column_mapping, inplace= True)"
   ]
  },
  {
   "cell_type": "code",
   "execution_count": 38,
   "metadata": {},
   "outputs": [],
   "source": [
    "final_clean_annual_housing_pricing_df.to_csv(\"clean_data_outputs/annual_house_price.csv\")"
   ]
  },
  {
   "cell_type": "code",
   "execution_count": 23,
   "metadata": {},
   "outputs": [
    {
     "data": {
      "text/html": [
       "<div>\n",
       "<style scoped>\n",
       "    .dataframe tbody tr th:only-of-type {\n",
       "        vertical-align: middle;\n",
       "    }\n",
       "\n",
       "    .dataframe tbody tr th {\n",
       "        vertical-align: top;\n",
       "    }\n",
       "\n",
       "    .dataframe thead th {\n",
       "        text-align: right;\n",
       "    }\n",
       "</style>\n",
       "<table border=\"1\" class=\"dataframe\">\n",
       "  <thead>\n",
       "    <tr style=\"text-align: right;\">\n",
       "      <th></th>\n",
       "      <th>DATE</th>\n",
       "      <th>MAFAINUSA646N</th>\n",
       "      <th>MAFAINUSMWA646N</th>\n",
       "      <th>MAFAINUSNEA646N</th>\n",
       "      <th>MAFAINUSSOA646N</th>\n",
       "      <th>MAFAINUSWEA646N</th>\n",
       "    </tr>\n",
       "  </thead>\n",
       "  <tbody>\n",
       "    <tr>\n",
       "      <th>0</th>\n",
       "      <td>1/1/1975</td>\n",
       "      <td>15550</td>\n",
       "      <td>16130</td>\n",
       "      <td>16380</td>\n",
       "      <td>14150</td>\n",
       "      <td>16180</td>\n",
       "    </tr>\n",
       "    <tr>\n",
       "      <th>1</th>\n",
       "      <td>1/1/1976</td>\n",
       "      <td>16870</td>\n",
       "      <td>17770</td>\n",
       "      <td>17290</td>\n",
       "      <td>15460</td>\n",
       "      <td>17540</td>\n",
       "    </tr>\n",
       "    <tr>\n",
       "      <th>2</th>\n",
       "      <td>1/1/1977</td>\n",
       "      <td>18260</td>\n",
       "      <td>18830</td>\n",
       "      <td>19050</td>\n",
       "      <td>16920</td>\n",
       "      <td>18880</td>\n",
       "    </tr>\n",
       "    <tr>\n",
       "      <th>3</th>\n",
       "      <td>1/1/1978</td>\n",
       "      <td>20090</td>\n",
       "      <td>20690</td>\n",
       "      <td>20610</td>\n",
       "      <td>18610</td>\n",
       "      <td>21260</td>\n",
       "    </tr>\n",
       "    <tr>\n",
       "      <th>4</th>\n",
       "      <td>1/1/1979</td>\n",
       "      <td>22320</td>\n",
       "      <td>22900</td>\n",
       "      <td>23190</td>\n",
       "      <td>20500</td>\n",
       "      <td>23800</td>\n",
       "    </tr>\n",
       "  </tbody>\n",
       "</table>\n",
       "</div>"
      ],
      "text/plain": [
       "       DATE  MAFAINUSA646N  MAFAINUSMWA646N  MAFAINUSNEA646N  MAFAINUSSOA646N  \\\n",
       "0  1/1/1975          15550            16130            16380            14150   \n",
       "1  1/1/1976          16870            17770            17290            15460   \n",
       "2  1/1/1977          18260            18830            19050            16920   \n",
       "3  1/1/1978          20090            20690            20610            18610   \n",
       "4  1/1/1979          22320            22900            23190            20500   \n",
       "\n",
       "   MAFAINUSWEA646N  \n",
       "0            16180  \n",
       "1            17540  \n",
       "2            18880  \n",
       "3            21260  \n",
       "4            23800  "
      ]
     },
     "execution_count": 23,
     "metadata": {},
     "output_type": "execute_result"
    }
   ],
   "source": [
    "income_df.head()"
   ]
  },
  {
   "cell_type": "code",
   "execution_count": 24,
   "metadata": {},
   "outputs": [
    {
     "data": {
      "text/plain": [
       "Index(['DATE', 'MAFAINUSA646N', 'MAFAINUSMWA646N', 'MAFAINUSNEA646N',\n",
       "       'MAFAINUSSOA646N', 'MAFAINUSWEA646N'],\n",
       "      dtype='object')"
      ]
     },
     "execution_count": 24,
     "metadata": {},
     "output_type": "execute_result"
    }
   ],
   "source": [
    "income_df.columns"
   ]
  },
  {
   "cell_type": "code",
   "execution_count": 25,
   "metadata": {},
   "outputs": [],
   "source": [
    "income_df['DATE'] = pd.PeriodIndex(income_df['DATE'], freq='Q') #Convert Date to Quarter"
   ]
  },
  {
   "cell_type": "code",
   "execution_count": 26,
   "metadata": {},
   "outputs": [],
   "source": [
    "clean_income_df = income_df.rename(columns={\"DATE\": \"Year/Quarter\", \n",
    "                                            \"MAFAINUSA646N\": \"US Household Mean Income\", \n",
    "                                            \"MAFAINUSMWA646N\": \"Midwestern Household Mean Income\", \n",
    "                                            \"MAFAINUSNEA646N\": \"Northeastern Household Mean Income\", \n",
    "                                            \"MAFAINUSSOA646N\": \"Southern Household Mean Income\", \n",
    "                                            \"MAFAINUSWEA646N\": \"Western Household Mean Income\"}).dropna() #change housing price column name\n"
   ]
  },
  {
   "cell_type": "code",
   "execution_count": 27,
   "metadata": {},
   "outputs": [
    {
     "data": {
      "text/plain": [
       "Index(['Year/Quarter', 'US Household Mean Income',\n",
       "       'Midwestern Household Mean Income',\n",
       "       'Northeastern Household Mean Income', 'Southern Household Mean Income',\n",
       "       'Western Household Mean Income'],\n",
       "      dtype='object')"
      ]
     },
     "execution_count": 27,
     "metadata": {},
     "output_type": "execute_result"
    }
   ],
   "source": [
    "clean_income_df.columns"
   ]
  },
  {
   "cell_type": "code",
   "execution_count": 28,
   "metadata": {},
   "outputs": [],
   "source": [
    "final_clean_income_df = clean_income_df.astype({'US Household Mean Income' : 'int',\n",
    "                                                'Midwestern Household Mean Income' : 'int',\n",
    "                                                'Northeastern Household Mean Income' : 'int',\n",
    "                                                'Southern Household Mean Income':'int',\n",
    "                                                'Western Household Mean Income': 'int',\n",
    "                                                'Year/Quarter' : 'str'\n",
    "                                                              })"
   ]
  },
  {
   "cell_type": "code",
   "execution_count": 39,
   "metadata": {},
   "outputs": [],
   "source": [
    "annual_income_column_mapping={\n",
    "    \"Year/Quarter\": \"year_quarter\",\n",
    "    \"US Household Mean Income\": \"us_household_mean_income\",\n",
    "    \"Midwestern Household Mean Income\": \"midwestern_household_mean_income\",\n",
    "    \"Northeastern Household Mean Income\": \"northeastern_household_mean_income\",\n",
    "    \"Southern Household Mean Income\": \"southern_household_mean_income\",\n",
    "    \"Western Household Mean Income\": \"western_household_mean_income\"\n",
    "\n",
    "}\n",
    "\n",
    "final_clean_income_df.rename(columns= annual_income_column_mapping, inplace= True)"
   ]
  },
  {
   "cell_type": "code",
   "execution_count": 40,
   "metadata": {},
   "outputs": [],
   "source": [
    "final_clean_income_df.to_csv(\"clean_data_outputs/annual_family_income.csv\")"
   ]
  }
 ],
 "metadata": {
  "kernelspec": {
   "display_name": "dev",
   "language": "python",
   "name": "python3"
  },
  "language_info": {
   "codemirror_mode": {
    "name": "ipython",
    "version": 3
   },
   "file_extension": ".py",
   "mimetype": "text/x-python",
   "name": "python",
   "nbconvert_exporter": "python",
   "pygments_lexer": "ipython3",
   "version": "3.10.12"
  },
  "orig_nbformat": 4
 },
 "nbformat": 4,
 "nbformat_minor": 2
}
